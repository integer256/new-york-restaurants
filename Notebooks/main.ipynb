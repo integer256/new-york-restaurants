{
 "cells": [
  {
   "cell_type": "code",
   "execution_count": null,
   "metadata": {},
   "outputs": [],
   "source": [
    "## Open data new york comments from Data\n",
    "\n",
    "import pandas as pd\n",
    "import numpy as np\n",
    "\n",
    "# Read data\n",
    "df = pd.read_csv('../Data/new-york-comments.csv', low_memory=False)\n",
    "\n",
    "# Get key words from the comments\n",
    "df['key_words'] = df['Comment'].str.findall(r'\\w{3,}').str.join(' ')\n",
    "\n",
    "# Get the key words from the comments\n",
    "df['key_words'] = df['key_words'].str.lower()\n",
    "\n",
    "# Get the key words from the comments\n",
    "df['key_words'] = df['key_words'].str.replace(r'(\\w)\\1{2,}', r'\\1')\n",
    "\n",
    "df.head()"
   ]
  },
  {
   "cell_type": "code",
   "execution_count": null,
   "metadata": {},
   "outputs": [],
   "source": [
    "import pandas as pd\n",
    "from nltk.sentiment.vader import SentimentIntensityAnalyzer\n",
    "import nltk\n",
    "\n",
    "nltk.download('vader_lexicon')\n",
    "\n",
    "\n",
    "def get_sentiment_score(sentence):\n",
    "    sid = SentimentIntensityAnalyzer()\n",
    "    sentiment_dict = sid.polarity_scores(sentence)\n",
    "    score = sentiment_dict['compound'] * 100\n",
    "    return score\n",
    "\n",
    "df['score'] = df['key_words'].apply(get_sentiment_score)\n",
    "\n",
    "df.head()"
   ]
  },
  {
   "cell_type": "code",
   "execution_count": null,
   "metadata": {},
   "outputs": [],
   "source": [
    "# Transform key_workds to points depending how positive or negative is the comment using a lexicon\n",
    "\n"
   ]
  },
  {
   "cell_type": "code",
   "execution_count": null,
   "metadata": {},
   "outputs": [],
   "source": [
    "# Train model with the key words\n",
    "from sklearn.feature_extraction.text import CountVectorizer\n",
    "\n",
    "count = CountVectorizer(stop_words='english')\n",
    "\n",
    "count_matrix = count.fit_transform(df['key_words'])\n",
    "\n",
    "# Get the cosine similarity matrix from the key words\n",
    "from sklearn.metrics.pairwise import cosine_similarity\n",
    "\n",
    "cosine_sim = cosine_similarity(count_matrix, count_matrix)\n",
    "\n",
    "# Get the cosine similarity matrix from the key words\n",
    "\n",
    "indices = pd.Series(df.index)\n",
    "\n",
    "# Get the cosine similarity matrix from the key words\n",
    "\n",
    "def recommendations(id, cosine_sim=cosine_sim):\n",
    "\n",
    "    # Get the cosine similarity matrix from the key words\n",
    "    id = indices[indices == id].index[0]\n",
    "\n",
    "    # Get the cosine similarity matrix from the key words\n",
    "    similarity_scores = pd.Series(cosine_sim[id]).sort_values(ascending=False)\n",
    "\n",
    "    # Get the cosine similarity matrix from the key words\n",
    "    top_10 = list(similarity_scores.iloc[1:11].index)\n",
    "\n",
    "    # Get the cosine similarity matrix from the key words\n",
    "    return df.iloc[top_10]\n",
    "\n",
    "# Get the cosine similarity matrix from the key words for ID\n",
    "recommendations(2)"
   ]
  },
  {
   "cell_type": "code",
   "execution_count": null,
   "metadata": {},
   "outputs": [],
   "source": [
    "# Function to search keywords in comments\n",
    "def search_keyword(keyword, df):\n",
    "    keyword = keyword.lower()\n",
    "    contains_keyword = df['key_words'].str.contains(keyword)\n",
    "    indices = [i for i, x in enumerate(contains_keyword) if x]\n",
    "    return indices\n",
    "\n",
    "keyword = input('Enter a keyword to search: ')\n",
    "ids = search_keyword(keyword, df)\n",
    "\n",
    "print(f'The keyword is found in the following IDs: {ids}')\n",
    "\n",
    "# Get recommendations for all the ids\n",
    "for id in ids:\n",
    "    print(f'Recommendations for ID {id}')\n",
    "    print(recommendations(id))\n",
    "    print('\\n')"
   ]
  }
 ],
 "metadata": {
  "kernelspec": {
   "display_name": "Python 3",
   "language": "python",
   "name": "python3"
  },
  "language_info": {
   "codemirror_mode": {
    "name": "ipython",
    "version": 3
   },
   "file_extension": ".py",
   "mimetype": "text/x-python",
   "name": "python",
   "nbconvert_exporter": "python",
   "pygments_lexer": "ipython3",
   "version": "3.11.5"
  }
 },
 "nbformat": 4,
 "nbformat_minor": 2
}
